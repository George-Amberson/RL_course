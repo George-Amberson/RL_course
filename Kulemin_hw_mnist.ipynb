{
 "cells": [
  {
   "cell_type": "code",
   "execution_count": 1,
   "metadata": {
    "id": "SnTGL01dVJmF"
   },
   "outputs": [],
   "source": [
    "from torchvision.datasets import MNIST\n",
    "import matplotlib.pyplot as plt\n",
    "import numpy as np"
   ]
  },
  {
   "cell_type": "code",
   "execution_count": 2,
   "metadata": {
    "colab": {
     "base_uri": "https://localhost:8080/"
    },
    "id": "mE9OPX35VSZ9",
    "outputId": "eec2bc63-4ecc-47d0-d880-6a6f3eb14f69"
   },
   "outputs": [],
   "source": [
    "mnist_dataset_train = MNIST('train', True, download=True)\n",
    "mnist_dataset_test = MNIST('test', False, download=True)"
   ]
  },
  {
   "cell_type": "code",
   "execution_count": 3,
   "metadata": {
    "colab": {
     "base_uri": "https://localhost:8080/"
    },
    "id": "HeHfiujuViK8",
    "outputId": "6ed9461c-d064-461e-d7db-811192d6ae12"
   },
   "outputs": [
    {
     "data": {
      "text/plain": [
       "(60000, 10000)"
      ]
     },
     "execution_count": 3,
     "metadata": {},
     "output_type": "execute_result"
    }
   ],
   "source": [
    " len(mnist_dataset_train), len(mnist_dataset_test)"
   ]
  },
  {
   "cell_type": "code",
   "execution_count": 4,
   "metadata": {
    "colab": {
     "base_uri": "https://localhost:8080/"
    },
    "id": "Z52ZAaWVYS4u",
    "outputId": "8eed1946-a1b0-448f-f593-7983949f9c02"
   },
   "outputs": [
    {
     "data": {
      "text/plain": [
       "(<PIL.Image.Image image mode=L size=28x28 at 0x1C64796EC10>, 5)"
      ]
     },
     "execution_count": 4,
     "metadata": {},
     "output_type": "execute_result"
    }
   ],
   "source": [
    "mnist_dataset_train[0]"
   ]
  },
  {
   "cell_type": "code",
   "execution_count": 4,
   "metadata": {
    "colab": {
     "base_uri": "https://localhost:8080/",
     "height": 1000
    },
    "id": "5KIJ6afHVw3V",
    "outputId": "50bf15cc-43ed-4888-c1a2-92003e4cd129"
   },
   "outputs": [
    {
     "name": "stderr",
     "output_type": "stream",
     "text": [
      "<ipython-input-4-760f049859f5>:9: UserWarning: Matplotlib is currently using module://ipykernel.pylab.backend_inline, which is a non-GUI backend, so cannot show the figure.\n",
      "  fig.show()\n"
     ]
    },
    {
     "data": {
      "image/png": "[encoded data removed]",
      "text/plain": [
       "<Figure size 720x1440 with 8 Axes>"
      ]
     },
     "metadata": {
      "needs_background": "light"
     },
     "output_type": "display_data"
    }
   ],
   "source": [
    "fig, axs = plt.subplots(4, 2, figsize=(10, 20))\n",
    "\n",
    "for idx, (x, y) in enumerate(mnist_dataset_train):\n",
    "    ax = axs[idx % 4][idx // 4]\n",
    "    ax.imshow(x)\n",
    "    ax.set_title(y)\n",
    "    if idx == 7:\n",
    "        break\n",
    "fig.show()"
   ]
  },
  {
   "cell_type": "code",
   "execution_count": 5,
   "metadata": {
    "colab": {
     "base_uri": "https://localhost:8080/"
    },
    "id": "HEl6wUxD6cKN",
    "outputId": "96069319-b06e-4215-b1c3-a20cac4d20fd"
   },
   "outputs": [
    {
     "data": {
      "text/plain": [
       "(784,)"
      ]
     },
     "execution_count": 5,
     "metadata": {},
     "output_type": "execute_result"
    }
   ],
   "source": [
    "np.array(mnist_dataset_train[0][0]).reshape(784).shape"
   ]
  },
  {
   "cell_type": "code",
   "execution_count": 6,
   "metadata": {
    "colab": {
     "base_uri": "https://localhost:8080/"
    },
    "id": "Jg0qWMvW8IGH",
    "outputId": "e7260180-0bfd-4da2-cc4a-053f42ee6fa0"
   },
   "outputs": [
    {
     "data": {
      "text/plain": [
       "array([5, 0, 4, ..., 5, 6, 8])"
      ]
     },
     "execution_count": 6,
     "metadata": {},
     "output_type": "execute_result"
    }
   ],
   "source": [
    "np.array([el[1] for el in mnist_dataset_train])"
   ]
  },
  {
   "cell_type": "code",
   "execution_count": 7,
   "metadata": {
    "id": "R4uPQE5WXq-5"
   },
   "outputs": [],
   "source": [
    "X_train = np.array([np.array(el[0]).flatten() for el in mnist_dataset_train])\n",
    "y_train = np.array([el[1] for el in mnist_dataset_train])\n",
    "X_test = np.array([np.array(el[0]).flatten() for el in mnist_dataset_test])\n",
    "y_test = np.array([el[1] for el in mnist_dataset_test])"
   ]
  },
  {
   "cell_type": "code",
   "execution_count": 8,
   "metadata": {
    "colab": {
     "base_uri": "https://localhost:8080/"
    },
    "id": "FFzrfRl-88hH",
    "outputId": "ac74ce75-3d7e-4a2b-9958-fb80507b49af"
   },
   "outputs": [
    {
     "name": "stdout",
     "output_type": "stream",
     "text": [
      "(60000, 784)\n",
      "(60000,)\n"
     ]
    }
   ],
   "source": [
    "print(X_train.shape)\n",
    "print(y_train.shape)"
   ]
  },
  {
   "cell_type": "code",
   "execution_count": 13,
   "metadata": {
    "id": "0kc6TCVZY-5I"
   },
   "outputs": [],
   "source": [
    "from sklearn.linear_model import LogisticRegression"
   ]
  },
  {
   "cell_type": "code",
   "execution_count": 14,
   "metadata": {
    "colab": {
     "base_uri": "https://localhost:8080/",
     "height": 75
    },
    "id": "A1wp6YNJYwEH",
    "outputId": "5e8fdf3e-6b79-4b44-991e-f020a3f9d454"
   },
   "outputs": [
    {
     "data": {
      "text/plain": [
       "LogisticRegression(max_iter=10000)"
      ]
     },
     "execution_count": 14,
     "metadata": {},
     "output_type": "execute_result"
    }
   ],
   "source": [
    "model = LogisticRegression(max_iter=10000)\n",
    "model.fit(X_train[:2000], y_train[:2000])"
   ]
  },
  {
   "cell_type": "code",
   "execution_count": 15,
   "metadata": {
    "id": "XJSzHDfNZCpE"
   },
   "outputs": [],
   "source": [
    "y_pred_test = model.predict(X_test)\n",
    "y_pred_train = model.predict(X_train)"
   ]
  },
  {
   "cell_type": "code",
   "execution_count": 16,
   "metadata": {
    "colab": {
     "base_uri": "https://localhost:8080/"
    },
    "id": "13AvP4TqZJrF",
    "outputId": "d06bde99-5d07-4015-fb1d-9f3d44ae1715"
   },
   "outputs": [
    {
     "name": "stdout",
     "output_type": "stream",
     "text": [
      "accuracy_train=0.8589, accuracy_test=0.8597\n"
     ]
    }
   ],
   "source": [
    "accuracy_train = np.sum(y_train == y_pred_train)/len(y_train)\n",
    "accuracy_test = np.sum(y_test == y_pred_test)/len(y_test)\n",
    "\n",
    "print(f'{accuracy_train=}, {accuracy_test=}')"
   ]
  },
  {
   "cell_type": "code",
   "execution_count": 17,
   "metadata": {
    "id": "0ntY7pqAZepv"
   },
   "outputs": [],
   "source": [
    "import torch\n",
    "from torch import nn\n",
    "from torch.nn import CrossEntropyLoss\n",
    "from torchvision.transforms import ToTensor\n",
    "from torch.utils.data import DataLoader\n",
    "from torch.optim import Adam\n",
    "from torch.optim import AdamW\n",
    "\n",
    "from tqdm import tqdm\n",
    "\n",
    "from IPython.display import clear_output"
   ]
  },
  {
   "cell_type": "code",
   "execution_count": 18,
   "metadata": {
    "id": "aRgmIa1oafEz"
   },
   "outputs": [],
   "source": [
    "mnist_dataset_train = MNIST('train', True, download=True, transform=ToTensor())\n",
    "mnist_dataset_test = MNIST('test', False, download=True, transform=ToTensor())"
   ]
  },
  {
   "cell_type": "code",
   "execution_count": 19,
   "metadata": {
    "colab": {
     "base_uri": "https://localhost:8080/"
    },
    "id": "vy_KWBlVahkD",
    "outputId": "79429280-c4b1-4ec6-f5bc-27d6e10d8be4"
   },
   "outputs": [
    {
     "data": {
      "text/plain": [
       "(torch.Tensor, int, torch.Size([1, 28, 28]))"
      ]
     },
     "execution_count": 19,
     "metadata": {},
     "output_type": "execute_result"
    }
   ],
   "source": [
    "type(mnist_dataset_test[0][0]), type(mnist_dataset_test[0][1]), mnist_dataset_test[0][0].shape"
   ]
  },
  {
   "cell_type": "code",
   "execution_count": 20,
   "metadata": {
    "id": "8XNF5BdOamnL"
   },
   "outputs": [],
   "source": [
    "batch_size = 32\n",
    "train_dataloader = DataLoader(mnist_dataset_train, batch_size=batch_size, shuffle=True)\n",
    "test_dataloader = DataLoader(mnist_dataset_test, batch_size=batch_size, shuffle=False)"
   ]
  },
  {
   "cell_type": "code",
   "execution_count": 21,
   "metadata": {
    "colab": {
     "base_uri": "https://localhost:8080/"
    },
    "id": "UlpTqPfgcEal",
    "outputId": "a3e5257b-2956-4eef-8b04-6f95e10ed0f8"
   },
   "outputs": [
    {
     "name": "stdout",
     "output_type": "stream",
     "text": [
      "2 torch.Size([32, 1, 28, 28]) tensor([6, 6, 6, 2, 1, 0, 1, 2, 6, 0, 6, 8, 8, 7, 8, 1, 3, 2, 2, 1, 9, 9, 7, 5,\n",
      "        6, 0, 2, 9, 8, 6, 2, 7])\n"
     ]
    }
   ],
   "source": [
    "for el in train_dataloader:\n",
    "    print(len(el), el[0].shape, el[1])\n",
    "    break"
   ]
  },
  {
   "cell_type": "code",
   "execution_count": 22,
   "metadata": {
    "colab": {
     "base_uri": "https://localhost:8080/"
    },
    "id": "8YlR-Oe1Ew21",
    "outputId": "b621bbbc-08b5-429c-9f2f-89c105f55ea8"
   },
   "outputs": [
    {
     "data": {
      "text/plain": [
       "tensor(1.)"
      ]
     },
     "execution_count": 22,
     "metadata": {},
     "output_type": "execute_result"
    }
   ],
   "source": [
    "el[0].max()"
   ]
  },
  {
   "cell_type": "code",
   "execution_count": 24,
   "metadata": {},
   "outputs": [],
   "source": [
    "class Mnist(nn.Module):\n",
    "    def __init__(self):\n",
    "        super().__init__()\n",
    "        self.layer1 = nn.Sequential(\n",
    "            nn.Conv2d(1, 32, kernel_size=5),\n",
    "            nn.ReLU(),\n",
    "            nn.MaxPool2d(kernel_size=2))\n",
    "        \n",
    "        self.layer2 = nn.Sequential(\n",
    "            nn.Conv2d(32, 64, kernel_size=5),\n",
    "            nn.ReLU(),\n",
    "            nn.MaxPool2d(kernel_size=2))\n",
    "\n",
    "        self.fc1 = nn.Linear(4 * 4 * 64, 10) \n",
    "        \n",
    "    def forward(self, x):\n",
    "        x = self.layer1(x)\n",
    "        x = self.layer2(x)\n",
    "        x = x.reshape(x.size(0), -1)\n",
    "        x = self.fc1(x)\n",
    "        return x"
   ]
  },
  {
   "cell_type": "code",
   "execution_count": 25,
   "metadata": {
    "colab": {
     "base_uri": "https://localhost:8080/"
    },
    "id": "wVidCc4EM54g",
    "outputId": "2bea784c-35c7-4506-9438-19c4fc648ece"
   },
   "outputs": [
    {
     "data": {
      "text/plain": [
       "torch.Size([1, 10])"
      ]
     },
     "execution_count": 25,
     "metadata": {},
     "output_type": "execute_result"
    }
   ],
   "source": [
    "model = Mnist()\n",
    "x = torch.zeros(1, 1, 28, 28)\n",
    "y = model(x)\n",
    "y.shape"
   ]
  },
  {
   "cell_type": "code",
   "execution_count": 26,
   "metadata": {
    "id": "10ApQ6kzdJ5C"
   },
   "outputs": [],
   "source": [
    "def train(model, criterion, optimizer, dataloader, max_num_batches=1000):\n",
    "    total_loss = 0\n",
    "    total_accuracy = 0\n",
    "    model.train()\n",
    "    for idx, batch in tqdm(enumerate(dataloader)):\n",
    "        optimizer.zero_grad()\n",
    "        x, y = batch[0], batch[1]\n",
    "        pred = model(x)\n",
    "        loss = criterion(pred, y)\n",
    "        loss.backward()\n",
    "        optimizer.step()\n",
    "        total_loss += loss.item()\n",
    "        total_accuracy += np.sum(np.argmax(pred.detach().numpy(), axis=1) == y.detach().numpy()) / len(batch[0])\n",
    "        if idx == max_num_batches:\n",
    "            break\n",
    "    return total_loss / max_num_batches, total_accuracy / max_num_batches\n"
   ]
  },
  {
   "cell_type": "code",
   "execution_count": 27,
   "metadata": {
    "id": "qv0Fpnv4dJ8s"
   },
   "outputs": [],
   "source": [
    "def test(model, criterion, optimizer, dataloader):\n",
    "    total_loss = 0\n",
    "    total_accuracy = 0\n",
    "    model.eval()\n",
    "    with torch.no_grad():\n",
    "        for idx, batch in tqdm(enumerate(dataloader)):\n",
    "            x, y = batch[0], batch[1]\n",
    "            with torch.no_grad():\n",
    "                pred = model(x)\n",
    "            loss = criterion(pred, y)\n",
    "            total_loss += loss.item()\n",
    "            total_accuracy += np.sum(np.argmax(pred.detach().numpy(), axis=1) == y.detach().numpy()) / len(batch[0])\n",
    "    return total_loss / len(dataloader), total_accuracy / len(dataloader)"
   ]
  },
  {
   "cell_type": "code",
   "execution_count": 28,
   "metadata": {
    "colab": {
     "base_uri": "https://localhost:8080/",
     "height": 468
    },
    "id": "pQfEUiJYdKDK",
    "outputId": "50913406-d4dc-474c-e7e7-e9cd2664425b"
   },
   "outputs": [
    {
     "data": {
      "image/png": "[encoded data removed]",
      "text/plain": [
       "<Figure size 1080x360 with 2 Axes>"
      ]
     },
     "metadata": {
      "needs_background": "light"
     },
     "output_type": "display_data"
    },
    {
     "name": "stdout",
     "output_type": "stream",
     "text": [
      "Max accuracy on test: 0.9928115015974441\n"
     ]
    }
   ],
   "source": [
    "model = Mnist()\n",
    "criterion = CrossEntropyLoss()\n",
    "optimizer = Adam(model.parameters())\n",
    "\n",
    "total_train_loss = []\n",
    "total_test_loss = []\n",
    "total_train_accuracy = []\n",
    "total_test_accuracy = []\n",
    "\n",
    "for epoch in range(20):\n",
    "    train_loss, train_accuracy = train(model, criterion, optimizer, train_dataloader)\n",
    "    test_loss, test_accuracy = test(model, criterion, optimizer, test_dataloader)\n",
    "\n",
    "    total_train_loss.append(train_loss)\n",
    "    total_test_loss.append(test_loss)\n",
    "    total_train_accuracy.append(train_accuracy)\n",
    "    total_test_accuracy.append(test_accuracy)\n",
    "\n",
    "    clear_output(True)\n",
    "    fig, axs = plt.subplots(1, 2, figsize=(15, 5))\n",
    "\n",
    "    axs[0].plot(total_train_loss, label='train')\n",
    "    axs[0].plot(total_test_loss, label='test')\n",
    "    axs[0].set_title('loss')\n",
    "    axs[0].grid()\n",
    "    axs[0].legend(loc='best')\n",
    "\n",
    "\n",
    "    axs[1].plot(total_train_accuracy, label='train')\n",
    "    axs[1].plot(total_test_accuracy, label='test')\n",
    "    axs[1].set_title('accuracy')\n",
    "    axs[1].grid()\n",
    "    axs[1].legend(loc='best')\n",
    "\n",
    "    plt.show()\n",
    "\n",
    "max_accuracy = max(total_test_accuracy)\n",
    "print('Max accuracy on test:', max_accuracy)"
   ]
  },
  {
   "cell_type": "code",
   "execution_count": 29,
   "metadata": {
    "colab": {
     "base_uri": "https://localhost:8080/"
    },
    "id": "5PfqBwZvtHaN",
    "outputId": "0b21ca98-3f2e-4475-d1ce-dcadc0f719a0"
   },
   "outputs": [
    {
     "name": "stdout",
     "output_type": "stream",
     "text": [
      "Кол-во параметров: 62346.\n"
     ]
    }
   ],
   "source": [
    "print(f\"Кол-во параметров: {sum(p.numel() for p in model.parameters())}.\")"
   ]
  },
  {
   "cell_type": "code",
   "execution_count": null,
   "metadata": {
    "id": "XMDR37QCtaj-"
   },
   "outputs": [],
   "source": []
  }
 ],
 "metadata": {
  "colab": {
   "provenance": []
  },
  "kernelspec": {
   "display_name": "Python 3",
   "language": "python",
   "name": "python3"
  },
  "language_info": {
   "codemirror_mode": {
    "name": "ipython",
    "version": 3
   },
   "file_extension": ".py",
   "mimetype": "text/x-python",
   "name": "python",
   "nbconvert_exporter": "python",
   "pygments_lexer": "ipython3",
   "version": "3.8.8"
  }
 },
 "nbformat": 4,
 "nbformat_minor": 1
}
